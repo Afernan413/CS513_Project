{
 "cells": [
  {
   "cell_type": "code",
   "execution_count": 1,
   "id": "b8dd89a7",
   "metadata": {},
   "outputs": [],
   "source": [
    "import pandas as pd\n",
    "import numpy as np\n",
    "from sklearn.model_selection import train_test_split\n",
    "from sklearn.preprocessing import OneHotEncoder, StandardScaler\n",
    "from sklearn.compose import ColumnTransformer\n",
    "from sklearn.pipeline import Pipeline\n",
    "from sklearn.metrics import classification_report, confusion_matrix\n",
    "import tensorflow as tf\n",
    "from tensorflow import keras\n",
    "import matplotlib.pyplot as plt"
   ]
  },
  {
   "cell_type": "code",
   "execution_count": 2,
   "id": "01caaa50",
   "metadata": {},
   "outputs": [],
   "source": [
    "import os\n",
    "os.chdir(r'C:\\Users\\thoma\\OneDrive - stevens.edu\\Documents\\GitHub\\CS513_Project')"
   ]
  },
  {
   "cell_type": "code",
   "execution_count": 3,
   "id": "9d8a358d",
   "metadata": {},
   "outputs": [],
   "source": [
    "df = pd.read_csv('test.csv', na_values='?')\n",
    "df.drop(columns=['Unnamed: 0'], inplace=True)\n",
    "df = df.dropna()"
   ]
  },
  {
   "cell_type": "code",
   "execution_count": 4,
   "id": "6cd32f47",
   "metadata": {},
   "outputs": [],
   "source": [
    "#Feature engineering\n",
    "\n",
    "#Total delay rather than \n",
    "df['Total Delay'] = df['Departure Delay in Minutes'] + df['Arrival Delay in Minutes']\n",
    "\n",
    "#Turns delay into a categorical feature \n",
    "def bucket_total_delay(minutes):\n",
    "    if minutes <= 15:\n",
    "        return 'On Time'\n",
    "    elif minutes <= 60:\n",
    "        return 'Small Delay'\n",
    "    else:\n",
    "        return 'Big Delay'\n",
    "\n",
    "# Apply the function to create a new feature\n",
    "df['Delay Category'] = df['Total Delay'].apply(bucket_total_delay)\n",
    "\n",
    "def bucket_rating(x):\n",
    "    if x <= 2:\n",
    "        return 'Low'\n",
    "    elif x == 3:\n",
    "        return 'Medium'\n",
    "    else:\n",
    "        return 'High'\n",
    "\n",
    "rating_columns = [ 'Inflight wifi service','Food and drink', 'Seat comfort',\n",
    "                  'Inflight entertainment', 'On-board service', 'Leg room service',\n",
    "                  'Baggage handling', 'Checkin service', 'Cleanliness', 'Online boarding']\n",
    "\n",
    "for col in rating_columns:\n",
    "    df[col] = df[col].apply(bucket_rating)\n"
   ]
  },
  {
   "cell_type": "code",
   "execution_count": 5,
   "id": "31dd305d",
   "metadata": {},
   "outputs": [],
   "source": [
    "attr = df.drop(columns=['satisfaction', 'id', 'Departure Delay in Minutes', 'Arrival Delay in Minutes', 'Total Delay'])\n",
    "target = (df['satisfaction'] == 'satisfied').astype(int)\n",
    "\n",
    "attr_train, attr_test, target_train, target_test = train_test_split(attr, target, test_size=0.2, random_state=5)\n",
    "\n",
    "categorical_columns = attr.columns.tolist()\n",
    "\n",
    "preprocessor = ColumnTransformer([\n",
    "    ('cat', OneHotEncoder(handle_unknown='ignore'), categorical_columns)\n",
    "])\n",
    "\n",
    "X_train = preprocessor.fit_transform(attr_train)\n",
    "X_test = preprocessor.transform(attr_test)\n",
    "\n",
    "scaler = StandardScaler(with_mean=False)\n",
    "X_train = scaler.fit_transform(X_train)\n",
    "X_test = scaler.transform(X_test)"
   ]
  },
  {
   "cell_type": "code",
   "execution_count": 6,
   "id": "9513ae56",
   "metadata": {},
   "outputs": [
    {
     "name": "stderr",
     "output_type": "stream",
     "text": [
      "C:\\Users\\thoma\\anaconda3\\lib\\site-packages\\keras\\src\\layers\\core\\input_layer.py:27: UserWarning: Argument `input_shape` is deprecated. Use `shape` instead.\n",
      "  warnings.warn(\n"
     ]
    }
   ],
   "source": [
    "#Build ANN \n",
    "model = keras.models.Sequential([\n",
    "    keras.layers.InputLayer(input_shape=(X_train.shape[1],)),\n",
    "    keras.layers.Dense(32, activation='relu'),\n",
    "    keras.layers.Dense(1, activation='sigmoid')\n",
    "])\n",
    "\n",
    "model.compile(optimizer='adam',\n",
    "              loss='binary_crossentropy',\n",
    "              metrics=['accuracy'])"
   ]
  },
  {
   "cell_type": "code",
   "execution_count": 7,
   "id": "fbb9f854",
   "metadata": {},
   "outputs": [
    {
     "name": "stdout",
     "output_type": "stream",
     "text": [
      "Epoch 1/30\n",
      "\u001b[1m518/518\u001b[0m \u001b[32m━━━━━━━━━━━━━━━━━━━━\u001b[0m\u001b[37m\u001b[0m \u001b[1m3s\u001b[0m 4ms/step - accuracy: 0.7915 - loss: 0.4506 - val_accuracy: 0.8590 - val_loss: 0.3317\n",
      "Epoch 2/30\n",
      "\u001b[1m518/518\u001b[0m \u001b[32m━━━━━━━━━━━━━━━━━━━━\u001b[0m\u001b[37m\u001b[0m \u001b[1m2s\u001b[0m 3ms/step - accuracy: 0.9187 - loss: 0.2001 - val_accuracy: 0.8687 - val_loss: 0.3387\n",
      "Epoch 3/30\n",
      "\u001b[1m518/518\u001b[0m \u001b[32m━━━━━━━━━━━━━━━━━━━━\u001b[0m\u001b[37m\u001b[0m \u001b[1m2s\u001b[0m 3ms/step - accuracy: 0.9319 - loss: 0.1650 - val_accuracy: 0.8726 - val_loss: 0.3415\n",
      "Epoch 4/30\n",
      "\u001b[1m518/518\u001b[0m \u001b[32m━━━━━━━━━━━━━━━━━━━━\u001b[0m\u001b[37m\u001b[0m \u001b[1m2s\u001b[0m 3ms/step - accuracy: 0.9423 - loss: 0.1373 - val_accuracy: 0.8701 - val_loss: 0.3623\n",
      "Epoch 5/30\n",
      "\u001b[1m518/518\u001b[0m \u001b[32m━━━━━━━━━━━━━━━━━━━━\u001b[0m\u001b[37m\u001b[0m \u001b[1m2s\u001b[0m 3ms/step - accuracy: 0.9511 - loss: 0.1166 - val_accuracy: 0.8767 - val_loss: 0.3763\n",
      "Epoch 6/30\n",
      "\u001b[1m518/518\u001b[0m \u001b[32m━━━━━━━━━━━━━━━━━━━━\u001b[0m\u001b[37m\u001b[0m \u001b[1m2s\u001b[0m 3ms/step - accuracy: 0.9606 - loss: 0.0980 - val_accuracy: 0.8781 - val_loss: 0.4067\n",
      "Epoch 7/30\n",
      "\u001b[1m518/518\u001b[0m \u001b[32m━━━━━━━━━━━━━━━━━━━━\u001b[0m\u001b[37m\u001b[0m \u001b[1m2s\u001b[0m 4ms/step - accuracy: 0.9712 - loss: 0.0780 - val_accuracy: 0.8755 - val_loss: 0.4463\n",
      "Epoch 8/30\n",
      "\u001b[1m518/518\u001b[0m \u001b[32m━━━━━━━━━━━━━━━━━━━━\u001b[0m\u001b[37m\u001b[0m \u001b[1m2s\u001b[0m 3ms/step - accuracy: 0.9767 - loss: 0.0636 - val_accuracy: 0.8742 - val_loss: 0.4867\n",
      "Epoch 9/30\n",
      "\u001b[1m518/518\u001b[0m \u001b[32m━━━━━━━━━━━━━━━━━━━━\u001b[0m\u001b[37m\u001b[0m \u001b[1m2s\u001b[0m 4ms/step - accuracy: 0.9853 - loss: 0.0448 - val_accuracy: 0.8716 - val_loss: 0.5293\n",
      "Epoch 10/30\n",
      "\u001b[1m518/518\u001b[0m \u001b[32m━━━━━━━━━━━━━━━━━━━━\u001b[0m\u001b[37m\u001b[0m \u001b[1m2s\u001b[0m 3ms/step - accuracy: 0.9890 - loss: 0.0371 - val_accuracy: 0.8793 - val_loss: 0.5646\n",
      "Epoch 11/30\n",
      "\u001b[1m518/518\u001b[0m \u001b[32m━━━━━━━━━━━━━━━━━━━━\u001b[0m\u001b[37m\u001b[0m \u001b[1m2s\u001b[0m 4ms/step - accuracy: 0.9922 - loss: 0.0267 - val_accuracy: 0.8757 - val_loss: 0.6161\n",
      "Epoch 12/30\n",
      "\u001b[1m518/518\u001b[0m \u001b[32m━━━━━━━━━━━━━━━━━━━━\u001b[0m\u001b[37m\u001b[0m \u001b[1m2s\u001b[0m 3ms/step - accuracy: 0.9951 - loss: 0.0218 - val_accuracy: 0.8767 - val_loss: 0.6540\n",
      "Epoch 13/30\n",
      "\u001b[1m518/518\u001b[0m \u001b[32m━━━━━━━━━━━━━━━━━━━━\u001b[0m\u001b[37m\u001b[0m \u001b[1m2s\u001b[0m 3ms/step - accuracy: 0.9961 - loss: 0.0154 - val_accuracy: 0.8747 - val_loss: 0.6834\n",
      "Epoch 14/30\n",
      "\u001b[1m518/518\u001b[0m \u001b[32m━━━━━━━━━━━━━━━━━━━━\u001b[0m\u001b[37m\u001b[0m \u001b[1m2s\u001b[0m 3ms/step - accuracy: 0.9966 - loss: 0.0135 - val_accuracy: 0.8733 - val_loss: 0.7245\n",
      "Epoch 15/30\n",
      "\u001b[1m518/518\u001b[0m \u001b[32m━━━━━━━━━━━━━━━━━━━━\u001b[0m\u001b[37m\u001b[0m \u001b[1m2s\u001b[0m 4ms/step - accuracy: 0.9982 - loss: 0.0083 - val_accuracy: 0.8726 - val_loss: 0.7700\n",
      "Epoch 16/30\n",
      "\u001b[1m518/518\u001b[0m \u001b[32m━━━━━━━━━━━━━━━━━━━━\u001b[0m\u001b[37m\u001b[0m \u001b[1m2s\u001b[0m 4ms/step - accuracy: 0.9988 - loss: 0.0061 - val_accuracy: 0.8733 - val_loss: 0.7970\n",
      "Epoch 17/30\n",
      "\u001b[1m518/518\u001b[0m \u001b[32m━━━━━━━━━━━━━━━━━━━━\u001b[0m\u001b[37m\u001b[0m \u001b[1m2s\u001b[0m 3ms/step - accuracy: 0.9993 - loss: 0.0042 - val_accuracy: 0.8723 - val_loss: 0.8365\n",
      "Epoch 18/30\n",
      "\u001b[1m518/518\u001b[0m \u001b[32m━━━━━━━━━━━━━━━━━━━━\u001b[0m\u001b[37m\u001b[0m \u001b[1m2s\u001b[0m 4ms/step - accuracy: 0.9992 - loss: 0.0033 - val_accuracy: 0.8665 - val_loss: 0.8713\n",
      "Epoch 19/30\n",
      "\u001b[1m518/518\u001b[0m \u001b[32m━━━━━━━━━━━━━━━━━━━━\u001b[0m\u001b[37m\u001b[0m \u001b[1m2s\u001b[0m 4ms/step - accuracy: 0.9990 - loss: 0.0036 - val_accuracy: 0.8699 - val_loss: 0.9084\n",
      "Epoch 20/30\n",
      "\u001b[1m518/518\u001b[0m \u001b[32m━━━━━━━━━━━━━━━━━━━━\u001b[0m\u001b[37m\u001b[0m \u001b[1m2s\u001b[0m 3ms/step - accuracy: 0.9997 - loss: 0.0023 - val_accuracy: 0.8701 - val_loss: 0.9405\n",
      "Epoch 21/30\n",
      "\u001b[1m518/518\u001b[0m \u001b[32m━━━━━━━━━━━━━━━━━━━━\u001b[0m\u001b[37m\u001b[0m \u001b[1m2s\u001b[0m 4ms/step - accuracy: 0.9996 - loss: 0.0021 - val_accuracy: 0.8716 - val_loss: 0.9669\n",
      "Epoch 22/30\n",
      "\u001b[1m518/518\u001b[0m \u001b[32m━━━━━━━━━━━━━━━━━━━━\u001b[0m\u001b[37m\u001b[0m \u001b[1m2s\u001b[0m 3ms/step - accuracy: 0.9992 - loss: 0.0033 - val_accuracy: 0.8713 - val_loss: 0.9696\n",
      "Epoch 23/30\n",
      "\u001b[1m518/518\u001b[0m \u001b[32m━━━━━━━━━━━━━━━━━━━━\u001b[0m\u001b[37m\u001b[0m \u001b[1m2s\u001b[0m 3ms/step - accuracy: 0.9995 - loss: 0.0018 - val_accuracy: 0.8733 - val_loss: 1.0016\n",
      "Epoch 24/30\n",
      "\u001b[1m518/518\u001b[0m \u001b[32m━━━━━━━━━━━━━━━━━━━━\u001b[0m\u001b[37m\u001b[0m \u001b[1m2s\u001b[0m 3ms/step - accuracy: 0.9995 - loss: 0.0024 - val_accuracy: 0.8728 - val_loss: 0.9726\n",
      "Epoch 25/30\n",
      "\u001b[1m518/518\u001b[0m \u001b[32m━━━━━━━━━━━━━━━━━━━━\u001b[0m\u001b[37m\u001b[0m \u001b[1m2s\u001b[0m 3ms/step - accuracy: 0.9992 - loss: 0.0026 - val_accuracy: 0.8742 - val_loss: 0.9882\n",
      "Epoch 26/30\n",
      "\u001b[1m518/518\u001b[0m \u001b[32m━━━━━━━━━━━━━━━━━━━━\u001b[0m\u001b[37m\u001b[0m \u001b[1m2s\u001b[0m 3ms/step - accuracy: 0.9999 - loss: 0.0011 - val_accuracy: 0.8723 - val_loss: 1.0244\n",
      "Epoch 27/30\n",
      "\u001b[1m518/518\u001b[0m \u001b[32m━━━━━━━━━━━━━━━━━━━━\u001b[0m\u001b[37m\u001b[0m \u001b[1m2s\u001b[0m 3ms/step - accuracy: 0.9994 - loss: 0.0017 - val_accuracy: 0.8709 - val_loss: 1.0278\n",
      "Epoch 28/30\n",
      "\u001b[1m518/518\u001b[0m \u001b[32m━━━━━━━━━━━━━━━━━━━━\u001b[0m\u001b[37m\u001b[0m \u001b[1m2s\u001b[0m 4ms/step - accuracy: 0.9998 - loss: 0.0012 - val_accuracy: 0.8716 - val_loss: 1.0174\n",
      "Epoch 29/30\n",
      "\u001b[1m518/518\u001b[0m \u001b[32m━━━━━━━━━━━━━━━━━━━━\u001b[0m\u001b[37m\u001b[0m \u001b[1m2s\u001b[0m 3ms/step - accuracy: 0.9996 - loss: 0.0012 - val_accuracy: 0.8692 - val_loss: 1.0457\n",
      "Epoch 30/30\n",
      "\u001b[1m518/518\u001b[0m \u001b[32m━━━━━━━━━━━━━━━━━━━━\u001b[0m\u001b[37m\u001b[0m \u001b[1m2s\u001b[0m 4ms/step - accuracy: 0.9997 - loss: 9.1979e-04 - val_accuracy: 0.8694 - val_loss: 1.0571\n",
      "\u001b[1m162/162\u001b[0m \u001b[32m━━━━━━━━━━━━━━━━━━━━\u001b[0m\u001b[37m\u001b[0m \u001b[1m0s\u001b[0m 2ms/step - accuracy: 0.8660 - loss: 1.1590\n",
      "Test Accuracy: 0.8598\n",
      "\u001b[1m162/162\u001b[0m \u001b[32m━━━━━━━━━━━━━━━━━━━━\u001b[0m\u001b[37m\u001b[0m \u001b[1m0s\u001b[0m 2ms/step\n",
      "              precision    recall  f1-score   support\n",
      "\n",
      "           0       0.86      0.89      0.88      2895\n",
      "           1       0.85      0.82      0.84      2284\n",
      "\n",
      "    accuracy                           0.86      5179\n",
      "   macro avg       0.86      0.86      0.86      5179\n",
      "weighted avg       0.86      0.86      0.86      5179\n",
      "\n",
      "[[2573  322]\n",
      " [ 404 1880]]\n"
     ]
    }
   ],
   "source": [
    "history = model.fit(X_train, target_train, epochs=30, batch_size=32,\n",
    "                    validation_split=0.2, verbose=1)\n",
    "\n",
    "loss, accuracy = model.evaluate(X_test, target_test)\n",
    "print(f'Test Accuracy: {accuracy:.4f}')\n",
    "\n",
    "y_pred = (model.predict(X_test) > 0.5).astype(int)\n",
    "print(classification_report(target_test, y_pred))\n",
    "print(confusion_matrix(target_test, y_pred))\n"
   ]
  },
  {
   "cell_type": "code",
   "execution_count": 8,
   "id": "07913120",
   "metadata": {},
   "outputs": [
    {
     "data": {
      "image/png": "[encoded data removed]",
      "text/plain": [
       "<Figure size 720x360 with 1 Axes>"
      ]
     },
     "metadata": {
      "needs_background": "light"
     },
     "output_type": "display_data"
    }
   ],
   "source": [
    "plt.figure(figsize=(10, 5))\n",
    "plt.plot(history.history['accuracy'], label='Train Accuracy')\n",
    "plt.plot(history.history['val_accuracy'], label='Validation Accuracy')\n",
    "plt.xlabel('Epochs')\n",
    "plt.ylabel('Accuracy')\n",
    "plt.title('Learning Curves')\n",
    "plt.legend()\n",
    "plt.show()"
   ]
  }
 ],
 "metadata": {
  "kernelspec": {
   "display_name": "Python 3 (ipykernel)",
   "language": "python",
   "name": "python3"
  },
  "language_info": {
   "codemirror_mode": {
    "name": "ipython",
    "version": 3
   },
   "file_extension": ".py",
   "mimetype": "text/x-python",
   "name": "python",
   "nbconvert_exporter": "python",
   "pygments_lexer": "ipython3",
   "version": "3.9.12"
  }
 },
 "nbformat": 4,
 "nbformat_minor": 5
}
